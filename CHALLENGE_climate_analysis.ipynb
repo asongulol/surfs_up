{
 "cells": [
  {
   "cell_type": "code",
   "execution_count": 1,
   "metadata": {},
   "outputs": [],
   "source": [
    "%matplotlib inline\n",
    "from matplotlib import style\n",
    "style.use('fivethirtyeight')\n",
    "import matplotlib.pyplot as plt"
   ]
  },
  {
   "cell_type": "code",
   "execution_count": 2,
   "metadata": {},
   "outputs": [],
   "source": [
    "import numpy as np\n",
    "import pandas as pd"
   ]
  },
  {
   "cell_type": "code",
   "execution_count": 3,
   "metadata": {},
   "outputs": [],
   "source": [
    "import datetime as dt"
   ]
  },
  {
   "cell_type": "markdown",
   "metadata": {},
   "source": [
    "# Reflect Tables into SQLAlchemy ORM"
   ]
  },
  {
   "cell_type": "code",
   "execution_count": 4,
   "metadata": {},
   "outputs": [],
   "source": [
    "# Python SQL toolkit and Object Relational Mapper\n",
    "import sqlalchemy\n",
    "from sqlalchemy.ext.automap import automap_base\n",
    "from sqlalchemy.orm import Session\n",
    "from sqlalchemy import create_engine, func"
   ]
  },
  {
   "cell_type": "markdown",
   "metadata": {},
   "source": [
    "SQLAlchemy is one of the primary technologies we will be looking at in this module. It’s extremely helpful for querying databases. If you are familiar with PostgreSQL, you’ll see there are many similarities to the process. Watch the following video to learn more about SQLAlchemy. \n",
    "\n",
    "Let’s get started by looking at the SQLAlchemy Object Relational Mapper (ORM).\n",
    "\n",
    "### SQLAlchemy ORM\n",
    "One of the primary features of SQLAlchemy is the Object Relational Mapper, which is commonly referred to as ORM. ORM allows you to create classes in your code that can be mapped to specific tables in a given database. This allows us to create a special type of system called a decoupled system.\n",
    "\n",
    "To understand ORMs and decoupled systems, consider the following scenario. Suppose you are cleaning out the garage, and you find a bunch of wires or ropes that are all knotted together. We would call this a tightly coupled system: all of the different ropes are connected to each other, so if we go to grab just one, the whole mess comes along with it. What the ORM does for us is untangle—or decouple—all of those ropes, so we can use just one of them at a time. When we pick one up, we won’t pick up the whole knot; or, if one element breaks, it doesn’t affect any of the other cords.\n",
    "\n",
    "Generally speaking, the less coupling in our code, the better. If there are a bunch of relationships between all of your coding components and one of them breaks, everything breaks.\n",
    "\n",
    "The ORM helps us keep our systems decoupled. We’ll get into more specific details about how we can keep our code decoupled, but for now, just remember that your references will be to classes in your code instead of specific tables in the database, and that we’ll be able to influence each class independently.\n",
    "\n",
    "### SQLAlchemy Create Engine\n",
    "\n",
    "Another really great feature of SQLAlchemy is the create engine function. This function’s primary purpose is to set up the ability to query a SQLite database. After all, data just sitting in a database that we can’t access does us no good.\n",
    "\n",
    "In order to connect to our SQLite database, we need to use the create_engine() function. This function doesn’t actually connect to our database; it just prepares the database file to be connected to later on.\n",
    "\n",
    "This function will typically have one parameter, which is the location of the SQLite database file. Try this function by adding the following line to your code.\n",
    "\n",
    "We’ve got our engine created—good work! Next we’re going to reflect our existing database into a new model with the automap_base() function. Reflecting a database into a new model essentially means to transfer the contents of the database into a different structure of data. \n",
    "\n",
    "### SQLAlchemy Automap Base\n",
    "\n",
    "Automap Base creates a base class for an automap schema in SQLAlchemy. Basically, it sets up a foundation for us to build on in SQLAlchemy, and by adding it to our code, it will help the rest of our code to function properly.\n",
    "\n",
    "In order for your code to function properly, you will need to add this line to your code:\n",
    "\n",
    "Base = automap_base()\n",
    "\n",
    "### SQLAlchemy Reflect Tables\n",
    "Now that we’ve gotten our environment set up for SQLAlchemy, we can reflect our tables with the prepare() function. By adding this code, we’ll reflect the schema of our SQLite tables into our code and create mappings.\n",
    "\n",
    "__IMPORTANT__\n",
    "\n",
    "Remember when we talked about keeping our code decoupled? When we reflect tables, we create classes that help keep our code separate. This ensures that our code is separated such that if other classes or systems want to interact with it, they can interact with only specific subsets of data instead of the whole dataset.\n",
    "\n",
    "Add the following code to reflect the schema from the tables to our code:\n",
    "\n",
    "    Base.prepare(engine, reflect=True)\n",
    "\n",
    "\n",
    "Now that we’ve reflected our database tables, we can check out the classes we’ll be creating with Automap.\n",
    "\n",
    "### View Classes Found by Automap\n",
    "\n",
    "Once we have added the base.prepare() function, we should confirm that the Automap was able to find all of the data in the SQLite database. We will double-check this by using Base.classes.keys(). This code references the classes that were mapped in each table.\n",
    "\n",
    "Base.classes gives us access to all the classes.\n",
    "keys() references all the names of the classes.\n",
    "\n",
    "__IMPORTANT__\n",
    "\n",
    "Previously, we talked about decoupled systems in the SQLAlchemy ORM. This directly relates to the classes we have created here. These classes help keep our data separate, or decoupled. Keep in mind that our data is no longer stored in tables, but rather in classes. The code we will run below enables us to essentially copy, or reflect, our data into different classes instead of database tables.\n",
    "\n",
    "Run the following code:\n",
    "\n",
    "    Base.classes.keys()\n",
    "\n",
    "Now that we’ve viewed all of our classes, we can create references to each table.\n",
    "\n",
    "### Save References to Each Table\n",
    "\n",
    "In order to reference a specific class, we use Base.classes.<class name>. For example, if we wanted to reference the station class, we would use \n",
    "    \n",
    "    Base.classes.station.\n",
    "\n",
    "Since it can be rather cumbersome to type Base.classes every time we want to reference the measurement or station classes, we can give the classes new variable names. In this case, we will create new references for our Measurement class and Station class. Add these new variables to your code:\n",
    "    \n",
    "    Measurement = Base.classes.measurement\n",
    "    Station = Base.classes.station\n",
    "    \n",
    "Now that we have our references saved to some new variables, let’s work on creating a session link to our database.\n",
    "\n",
    "### Create Session Link to the Database\n",
    "    \n",
    "Let’s create a session link to our database with our code. First, we’ll use an SQLAlchemy Session to query our database. Our session essentially allows us to query for data.\n",
    "\n",
    "    session = Session(engine)"
   ]
  },
  {
   "cell_type": "code",
   "execution_count": 5,
   "metadata": {},
   "outputs": [],
   "source": [
    "# prepare database to connect\n",
    "\n",
    "engine = create_engine(\"sqlite:///hawaii.sqlite\")\n",
    "\n",
    "# create a base class for an automap schema in SQLAlchemy\n",
    "\n",
    "Base = automap_base()\n",
    "\n",
    "# reflect an existing database into a new model\n",
    "\n",
    "Base.prepare(engine, reflect=True)\n",
    "\n"
   ]
  },
  {
   "cell_type": "code",
   "execution_count": 6,
   "metadata": {},
   "outputs": [
    {
     "data": {
      "text/plain": [
       "['measurement', 'station']"
      ]
     },
     "execution_count": 6,
     "metadata": {},
     "output_type": "execute_result"
    }
   ],
   "source": [
    "# We can view all of the classes that automap found\n",
    "Base.classes.keys()"
   ]
  },
  {
   "cell_type": "code",
   "execution_count": 7,
   "metadata": {},
   "outputs": [],
   "source": [
    "# Save references to each table\n",
    "Measurement = Base.classes.measurement\n",
    "Station = Base.classes.station"
   ]
  },
  {
   "cell_type": "code",
   "execution_count": 8,
   "metadata": {},
   "outputs": [],
   "source": [
    "# Create our session (link) from Python to the DB\n",
    "session = Session(engine)"
   ]
  },
  {
   "cell_type": "markdown",
   "metadata": {},
   "source": [
    "# Exploratory Climate Analysis"
   ]
  },
  {
   "cell_type": "markdown",
   "metadata": {},
   "source": [
    "## 9.2.1 Retrieve the Precipitation Data\n",
    "\n",
    "Your dependencies are added, you've connected the SQLite database, and your code is appropriately documented. It’s time to start the analysis.\n",
    "\n",
    "Now, let’s think about precipitation. W. Avy is concerned about the amount of precipitation on Oahu. There needs to be enough rain to keep everything green, but not so much that you lose out on that ideal surfing and ice cream weather.\n",
    "\n",
    "You know that you can set W. Avy’s mind at ease by analyzing precipitation levels and showing him the cold, hard, data that backs up Oahu as the perfect place to surf. You have the last 12 months of precipitation data already loaded into your SQLite database, so you are ready to go.\n",
    "\n",
    "W. Avy supplied you with the data he wants us to use and has asked you to look at a full year of data. When deciding how to parse the data, you remember that his favorite day is August 23, 2017 because it’s the anniversary of the first time he ever went surfing and had ice cream on the same day. So, you decide to start the analysis there.\n",
    "In the weather database, let’s calculate the date one year from August 23, 2017. We’ll be creating a variable called prev_year and using the datetime dependency that we imported previously.\n",
    "\n",
    "The datetime dependency has a function called dt.date(), which specifies the date in the following format: year, month, day.\n",
    "\n",
    "### Find the Date One Year Ago\n",
    "\n",
    "Add the most recent date, August 23, 2017, with the following code:\n",
    "\n",
    "    prev_year = dt.date(2017, 8, 23)\n",
    "    \n",
    "This code specifies the most recent date, but we want to calculate the date one year back. To do this, add the dt.timedelta() function to the previous line of code. This function allows us to trace back a certain number of days. In this case, we want to go back 365 days. Go ahead and add the dt.timedelta() function to your code.\n",
    "\n",
    "    prev_year = dt.date(2017, 8, 23) - dt.timedelta(days=365)\n",
    "    \n",
    "Now that we’ve got our date from the previous year (August 23, 2016), let’s retrieve the amount of precipitation that was recorded, or the precipitation score.\n",
    "\n",
    "### Retrieve the Precipitation Scores\n",
    "We’ll begin by creating a variable to store the results of the query we’ll write. This variable will be called results:\n",
    "\n",
    "    results = []\n",
    "    \n",
    "This code defines our new variable. Next, let’s add our session that we created earlier so that we can query our database. For this we’ll use the session.query() function, which is how we’ll begin all of our queries in SQLAlchemy. From a bird’s-eye view, this is how we query a SQLite database using Python.\n",
    "\n",
    "The session.query() function for this query will take two parameters. We will reference the Measurement table using Measurement.date and Measurement.prcp. Add the following to your code:\n",
    "\n",
    "    results = session.query(Measurement.date, Measurement.prcp)\n",
    "\n",
    "Let’s give this a shot and run the code. You might notice that there isn’t anything returned. Let’s go ahead and add a new line here. This will print everything that is returned in the query.\n",
    "\n",
    "    print(results.all())\n",
    "\n",
    "Here’s what you can expect to see.\n",
    "\n",
    "Output from your query.\n",
    "\n",
    "We still have a few aspects to add to our query, but we’ll get to that shortly.\n",
    "\n",
    "Since we only want to see the most recent data, we need to filter out all of the data that is older than a year from the last record date. We’ll use the filter() function to filter out the data we don’t need. Add the filter() function to the existing query.\n",
    "\n",
    "       results = session.query(Measurement.date, Measurement.prcp).filter(Measurement.date >= prev_year)\n",
    "\n",
    "One last thing: we’ll add a function that extracts all of the results from our query and put them in a list. To do this, add .all() to the end of our existing query. All said and done, your query should look something like this:\n",
    "\n",
    "    results = session.query(Measurement.date, Measurement.prcp).filter(Measurement.date >= prev_year).all()\n",
    "    \n",
    "Let’s run this code. We’ll print the results in order to ensure that we’re getting output. Add print(results) after the last line of code. Here’s what your results should look like:\n",
    "\n",
    "A list of dates and precipitation from August 23, 2016 through December 4, 2016.\n",
    "\n",
    "__IMPORTANT__\n",
    "\n",
    "When you’re handling a data analysis problem, printing your results is one of the most important tasks you can do. This can help you debug your code and ensure that you’re getting all the data that you are expecting.\n",
    "\n",
    "You should print your results frequently so that you can make sure you’re getting the data that you expect. Otherwise, you might spend hours working on code only to discover you’re way off track.\n",
    "\n",
    "Good work! Now that we’ve created the query, let’s save it so that we can easily access it later, when we dive into Flask. Let’s walk through how to do that now."
   ]
  },
  {
   "cell_type": "code",
   "execution_count": 19,
   "metadata": {},
   "outputs": [
    {
     "data": {
      "text/plain": [
       "<matplotlib.axes._subplots.AxesSubplot at 0x22c6dca3088>"
      ]
     },
     "execution_count": 19,
     "metadata": {},
     "output_type": "execute_result"
    },
    {
     "data": {
      "image/png": "[encoded data removed]",
      "text/plain": [
       "<Figure size 432x288 with 1 Axes>"
      ]
     },
     "metadata": {},
     "output_type": "display_data"
    }
   ],
   "source": [
    "# Design a query to retrieve the last 12 months of precipitation data and plot the results. \n",
    "#Starting from the last data point in the database. \n",
    "\n",
    "# Calculate the date one year from the last date in data set.\n",
    "prev_year = dt.date(2017, 8, 23) - dt.timedelta(days=365)\n",
    "\n",
    "# Perform a query to retrieve the data and precipitation scores\n",
    "results = []\n",
    "results = session.query(Measurement.date, Measurement.prcp).filter(Measurement.date >= prev_year)\n",
    "\n",
    "#print(results.all())\n",
    "\n",
    "# Save the query results as a Pandas DataFrame and set the index to the date column\n",
    "df = pd.DataFrame(results, columns=['date', 'precipitation'])\n",
    "\n",
    "df.set_index(df['date'], inplace=True)                                \n",
    "\n",
    "# # Sort the dataframe by date\n",
    "df = df.sort_index()\n",
    "\n",
    "#print(df)#setting the index to 'date' will repeat the index twice so here there will be two dates\n",
    "#print(df.to_string(index=False))#print wihtout an index\n",
    "\n",
    "# # Use Pandas Plotting with Matplotlib to plot the data\n",
    "\n",
    "df.plot()\n"
   ]
  },
  {
   "cell_type": "code",
   "execution_count": 20,
   "metadata": {},
   "outputs": [
    {
     "data": {
      "text/html": [
       "<div>\n",
       "<style scoped>\n",
       "    .dataframe tbody tr th:only-of-type {\n",
       "        vertical-align: middle;\n",
       "    }\n",
       "\n",
       "    .dataframe tbody tr th {\n",
       "        vertical-align: top;\n",
       "    }\n",
       "\n",
       "    .dataframe thead th {\n",
       "        text-align: right;\n",
       "    }\n",
       "</style>\n",
       "<table border=\"1\" class=\"dataframe\">\n",
       "  <thead>\n",
       "    <tr style=\"text-align: right;\">\n",
       "      <th></th>\n",
       "      <th>precipitation</th>\n",
       "    </tr>\n",
       "  </thead>\n",
       "  <tbody>\n",
       "    <tr>\n",
       "      <th>count</th>\n",
       "      <td>2021.000000</td>\n",
       "    </tr>\n",
       "    <tr>\n",
       "      <th>mean</th>\n",
       "      <td>0.177279</td>\n",
       "    </tr>\n",
       "    <tr>\n",
       "      <th>std</th>\n",
       "      <td>0.461190</td>\n",
       "    </tr>\n",
       "    <tr>\n",
       "      <th>min</th>\n",
       "      <td>0.000000</td>\n",
       "    </tr>\n",
       "    <tr>\n",
       "      <th>25%</th>\n",
       "      <td>0.000000</td>\n",
       "    </tr>\n",
       "    <tr>\n",
       "      <th>50%</th>\n",
       "      <td>0.020000</td>\n",
       "    </tr>\n",
       "    <tr>\n",
       "      <th>75%</th>\n",
       "      <td>0.130000</td>\n",
       "    </tr>\n",
       "    <tr>\n",
       "      <th>max</th>\n",
       "      <td>6.700000</td>\n",
       "    </tr>\n",
       "  </tbody>\n",
       "</table>\n",
       "</div>"
      ],
      "text/plain": [
       "       precipitation\n",
       "count    2021.000000\n",
       "mean        0.177279\n",
       "std         0.461190\n",
       "min         0.000000\n",
       "25%         0.000000\n",
       "50%         0.020000\n",
       "75%         0.130000\n",
       "max         6.700000"
      ]
     },
     "execution_count": 20,
     "metadata": {},
     "output_type": "execute_result"
    }
   ],
   "source": [
    "# Use Pandas to calcualte the summary statistics for the precipitation data\n",
    "df.describe()"
   ]
  },
  {
   "cell_type": "code",
   "execution_count": 21,
   "metadata": {},
   "outputs": [
    {
     "data": {
      "text/plain": [
       "[(9)]"
      ]
     },
     "execution_count": 21,
     "metadata": {},
     "output_type": "execute_result"
    }
   ],
   "source": [
    "# How many stations are available in this dataset?\n",
    "session.query(func.count(Station.station)).all()\n"
   ]
  },
  {
   "cell_type": "code",
   "execution_count": 22,
   "metadata": {},
   "outputs": [
    {
     "data": {
      "text/plain": [
       "[('USC00519281', 2772),\n",
       " ('USC00519397', 2724),\n",
       " ('USC00513117', 2709),\n",
       " ('USC00519523', 2669),\n",
       " ('USC00516128', 2612),\n",
       " ('USC00514830', 2202),\n",
       " ('USC00511918', 1979),\n",
       " ('USC00517948', 1372),\n",
       " ('USC00518838', 511)]"
      ]
     },
     "execution_count": 22,
     "metadata": {},
     "output_type": "execute_result"
    }
   ],
   "source": [
    "# What are the most active stations?\n",
    "# List the stations and the counts in descending order.\n",
    "session.query(Measurement.station, func.count(Measurement.station)).\\\n",
    "group_by(Measurement.station).order_by(func.count(Measurement.station).desc()).all()"
   ]
  },
  {
   "cell_type": "code",
   "execution_count": 23,
   "metadata": {},
   "outputs": [
    {
     "data": {
      "text/plain": [
       "[(71.0, 83.0, 77.21989528795811)]"
      ]
     },
     "execution_count": 23,
     "metadata": {},
     "output_type": "execute_result"
    }
   ],
   "source": [
    "# Using the station id from the previous query, calculate the lowest temperature recorded, \n",
    "# highest temperature recorded, and average temperature most active station?\n",
    "session.query(func.min(Measurement.tobs), func.max(Measurement.tobs), func.avg(Measurement.tobs)).\\\n",
    "filter(Measurement.date >= '2017-06-01').\\\n",
    "filter(Measurement.date <= '2017-06-31').all()"
   ]
  },
  {
   "cell_type": "code",
   "execution_count": 24,
   "metadata": {},
   "outputs": [
    {
     "name": "stdout",
     "output_type": "stream",
     "text": [
      "     tobs\n",
      "0    77.0\n",
      "1    77.0\n",
      "2    80.0\n",
      "3    80.0\n",
      "4    75.0\n",
      "..    ...\n",
      "347  77.0\n",
      "348  77.0\n",
      "349  76.0\n",
      "350  76.0\n",
      "351  79.0\n",
      "\n",
      "[352 rows x 1 columns]\n"
     ]
    },
    {
     "data": {
      "image/png": "[encoded data removed]",
      "text/plain": [
       "<Figure size 432x288 with 1 Axes>"
      ]
     },
     "metadata": {},
     "output_type": "display_data"
    }
   ],
   "source": [
    "# Choose the station with the highest number of temperature observations.\n",
    "# Query the last 12 months of temperature observation data for this station and plot the results as a histogram\n",
    "\n",
    "results = session.query(Measurement.tobs).\\\n",
    "filter(Measurement.station == 'USC00519281').\\\n",
    "filter(Measurement.date >= prev_year).all()\n",
    "\n",
    "#convert results to a dataframe\n",
    "df = pd.DataFrame(results, columns=['tobs'])\n",
    "\n",
    "#print the dataframe\n",
    "print(df)\n",
    "\n",
    "#plot the Temperature Observations\n",
    "\n",
    "df.plot.hist(bins=12)\n",
    "\n",
    "plt.tight_layout()\n"
   ]
  },
  {
   "cell_type": "code",
   "execution_count": 25,
   "metadata": {
    "scrolled": false
   },
   "outputs": [
    {
     "data": {
      "text/html": [
       "<div>\n",
       "<style scoped>\n",
       "    .dataframe tbody tr th:only-of-type {\n",
       "        vertical-align: middle;\n",
       "    }\n",
       "\n",
       "    .dataframe tbody tr th {\n",
       "        vertical-align: top;\n",
       "    }\n",
       "\n",
       "    .dataframe thead th {\n",
       "        text-align: right;\n",
       "    }\n",
       "</style>\n",
       "<table border=\"1\" class=\"dataframe\">\n",
       "  <thead>\n",
       "    <tr style=\"text-align: right;\">\n",
       "      <th></th>\n",
       "      <th>id</th>\n",
       "      <th>station</th>\n",
       "      <th>date</th>\n",
       "      <th>prcp</th>\n",
       "      <th>tobs</th>\n",
       "    </tr>\n",
       "  </thead>\n",
       "  <tbody>\n",
       "    <tr>\n",
       "      <th>19545</th>\n",
       "      <td>19546</td>\n",
       "      <td>USC00516128</td>\n",
       "      <td>2017-08-19</td>\n",
       "      <td>0.09</td>\n",
       "      <td>71.0</td>\n",
       "    </tr>\n",
       "    <tr>\n",
       "      <th>19546</th>\n",
       "      <td>19547</td>\n",
       "      <td>USC00516128</td>\n",
       "      <td>2017-08-20</td>\n",
       "      <td>NaN</td>\n",
       "      <td>78.0</td>\n",
       "    </tr>\n",
       "    <tr>\n",
       "      <th>19547</th>\n",
       "      <td>19548</td>\n",
       "      <td>USC00516128</td>\n",
       "      <td>2017-08-21</td>\n",
       "      <td>0.56</td>\n",
       "      <td>76.0</td>\n",
       "    </tr>\n",
       "    <tr>\n",
       "      <th>19548</th>\n",
       "      <td>19549</td>\n",
       "      <td>USC00516128</td>\n",
       "      <td>2017-08-22</td>\n",
       "      <td>0.50</td>\n",
       "      <td>76.0</td>\n",
       "    </tr>\n",
       "    <tr>\n",
       "      <th>19549</th>\n",
       "      <td>19550</td>\n",
       "      <td>USC00516128</td>\n",
       "      <td>2017-08-23</td>\n",
       "      <td>0.45</td>\n",
       "      <td>76.0</td>\n",
       "    </tr>\n",
       "  </tbody>\n",
       "</table>\n",
       "</div>"
      ],
      "text/plain": [
       "          id      station        date  prcp  tobs\n",
       "19545  19546  USC00516128  2017-08-19  0.09  71.0\n",
       "19546  19547  USC00516128  2017-08-20   NaN  78.0\n",
       "19547  19548  USC00516128  2017-08-21  0.56  76.0\n",
       "19548  19549  USC00516128  2017-08-22  0.50  76.0\n",
       "19549  19550  USC00516128  2017-08-23  0.45  76.0"
      ]
     },
     "execution_count": 25,
     "metadata": {},
     "output_type": "execute_result"
    }
   ],
   "source": [
    "import sqlite3\n",
    "#establish a connection\n",
    "conn = sqlite3.connect('/Users/otrin/OneDrive/Desktop/Git/surfs_up/hawaii.sqlite')\n",
    "#create a cursor object to be able to run queries against a database\n",
    "# cur = conn.cursor()\n",
    "# cur.execute(\"SELECT * FROM measurement;\")\n",
    "# results = cur.fetchall()\n",
    "# print(results)\n",
    "df = pd.read_sql(\"SELECT * FROM measurement;\", conn)\n",
    "df.head()\n",
    "df.tail()"
   ]
  },
  {
   "cell_type": "code",
   "execution_count": 33,
   "metadata": {},
   "outputs": [],
   "source": [
    "# Write a function called `calc_temps` that will accept start date and end date in the format '%Y-%m-%d' \n",
    "# and return the minimum, average, and maximum temperatures for that range of dates\n",
    "def calc_temps(start, end):\n",
    "    sel = [func.min(Measurement.tobs), func.avg(Measurement.tobs), func.max(Measurement.tobs)]           \n",
    "    if not end:\n",
    "        results = session.query(*sel).\\\n",
    "\t        filter(Measurement.date <= start).all()\n",
    "        temps = list(np.ravel(results))\n",
    "        return temps\n",
    "    results = session.query(*sel).\\\n",
    "        filter(Measurement.date >= start).\\\n",
    "\t    filter(Measurement.date <= end).all()\n",
    "    temps = list(np.ravel(results))\n",
    "    return temps"
   ]
  },
  {
   "cell_type": "code",
   "execution_count": 32,
   "metadata": {},
   "outputs": [
    {
     "data": {
      "text/plain": [
       "[76.0, 79.57142857142857, 87.0]"
      ]
     },
     "execution_count": 32,
     "metadata": {},
     "output_type": "execute_result"
    }
   ],
   "source": [
    "calc_temps('2017-07-03', '2017-07-03')"
   ]
  },
  {
   "cell_type": "code",
   "execution_count": 17,
   "metadata": {},
   "outputs": [],
   "source": [
    "#create a cursor object to be able to run queries against a database\n",
    "# cur = conn.cursor()\n",
    "# cur.execute(\"SELECT * FROM measurement;\")\n",
    "# results = cur.fetchall()\n",
    "# print(results)"
   ]
  },
  {
   "cell_type": "markdown",
   "metadata": {},
   "source": [
    "# Challenge"
   ]
  },
  {
   "cell_type": "code",
   "execution_count": 18,
   "metadata": {},
   "outputs": [
    {
     "ename": "NameError",
     "evalue": "name 'con' is not defined",
     "output_type": "error",
     "traceback": [
      "\u001b[1;31m---------------------------------------------------------------------------\u001b[0m",
      "\u001b[1;31mNameError\u001b[0m                                 Traceback (most recent call last)",
      "\u001b[1;32m<ipython-input-18-c84a8a978e6c>\u001b[0m in \u001b[0;36m<module>\u001b[1;34m\u001b[0m\n\u001b[0;32m      4\u001b[0m \u001b[1;31m#establish a connection\u001b[0m\u001b[1;33m\u001b[0m\u001b[1;33m\u001b[0m\u001b[1;33m\u001b[0m\u001b[0m\n\u001b[0;32m      5\u001b[0m \u001b[0mconn\u001b[0m \u001b[1;33m=\u001b[0m \u001b[0msqlite3\u001b[0m\u001b[1;33m.\u001b[0m\u001b[0mconnect\u001b[0m\u001b[1;33m(\u001b[0m\u001b[1;34m'/Users/otrin/OneDrive/Desktop/Git/surfs_up/hawaii.sqlite'\u001b[0m\u001b[1;33m)\u001b[0m\u001b[1;33m\u001b[0m\u001b[1;33m\u001b[0m\u001b[0m\n\u001b[1;32m----> 6\u001b[1;33m \u001b[0mdf\u001b[0m \u001b[1;33m=\u001b[0m \u001b[0mpd\u001b[0m\u001b[1;33m.\u001b[0m\u001b[0mread_sql\u001b[0m\u001b[1;33m(\u001b[0m\u001b[1;34m\"SELECT * FROM measurement;\"\u001b[0m\u001b[1;33m,\u001b[0m \u001b[0mcon\u001b[0m\u001b[1;33m)\u001b[0m\u001b[1;33m\u001b[0m\u001b[1;33m\u001b[0m\u001b[0m\n\u001b[0m",
      "\u001b[1;31mNameError\u001b[0m: name 'con' is not defined"
     ]
    }
   ],
   "source": [
    "import datetime as dt\n",
    "import pandas as pd\n",
    "import sqlite3\n",
    "#establish a connection\n",
    "conn = sqlite3.connect('/Users/otrin/OneDrive/Desktop/Git/surfs_up/hawaii.sqlite')\n",
    "df = pd.read_sql(\"SELECT * FROM measurement;\", con)\n"
   ]
  },
  {
   "cell_type": "code",
   "execution_count": null,
   "metadata": {},
   "outputs": [],
   "source": [
    "#confirm correct import of data\n",
    "df.head()"
   ]
  },
  {
   "cell_type": "code",
   "execution_count": null,
   "metadata": {},
   "outputs": [],
   "source": [
    "#confirm correct import of data\n",
    "df.tail()"
   ]
  },
  {
   "cell_type": "code",
   "execution_count": null,
   "metadata": {},
   "outputs": [],
   "source": [
    "#get statistics for the whole dataset\n",
    "df.describe()"
   ]
  },
  {
   "cell_type": "code",
   "execution_count": null,
   "metadata": {},
   "outputs": [],
   "source": [
    "#determine if the date column is in the correct format -> has to be datetime format\n",
    "df.dtypes"
   ]
  },
  {
   "cell_type": "code",
   "execution_count": null,
   "metadata": {},
   "outputs": [],
   "source": [
    "#convert date column to datetime format\n",
    "df['date'] = pd.to_datetime(df['date'], infer_datetime_format=True)"
   ]
  },
  {
   "cell_type": "code",
   "execution_count": null,
   "metadata": {},
   "outputs": [],
   "source": [
    "#confirm that the date column is now in datetime format\n",
    "df['date'].dtype"
   ]
  },
  {
   "cell_type": "code",
   "execution_count": null,
   "metadata": {},
   "outputs": [],
   "source": [
    "#select only observations in June across all stations and years\n",
    "june_df = df.loc[df['date'].dt.month == 6]\n",
    "#confirm if data is correct\n",
    "june_df"
   ]
  },
  {
   "cell_type": "code",
   "execution_count": null,
   "metadata": {},
   "outputs": [],
   "source": [
    "#obtain descriptive statistics\n",
    "june_df.describe()"
   ]
  },
  {
   "cell_type": "code",
   "execution_count": null,
   "metadata": {},
   "outputs": [],
   "source": [
    "#select only observations in June across all stations and years\n",
    "december_df = df.loc[df['date'].dt.month == 12]\n",
    "#confirm if correct data is obtained\n",
    "december_df"
   ]
  },
  {
   "cell_type": "code",
   "execution_count": null,
   "metadata": {},
   "outputs": [],
   "source": [
    "#obtain descriptive statistics for december\n",
    "december_df.describe()"
   ]
  },
  {
   "attachments": {
    "December_table.PNG": {
     "image/png": "[encoded data removed]"
    },
    "June_data.PNG": {
     "image/png": "[encoded data removed]"
    }
   },
   "cell_type": "markdown",
   "metadata": {},
   "source": [
    "## Written Analysis\n",
    "\n",
    "Simply stated, Hawaii is awesome. The temperature is comfortable throughout the year and although it rains there is still a lot of sun to go around. Surf and shake is something that definitely could thrive! The tables below describe the temperature and precipitation data for June and December.\n",
    "\n",
    "__June Descriptive Statistics__\n",
    "![June_data.PNG](attachment:June_data.PNG)\n",
    "\n",
    "__December Descriptive Statistics__\n",
    "\n",
    "![December_table.PNG](attachment:December_table.PNG)\n",
    "\n",
    "### Temperature Comparison June and December\n",
    "\n",
    "Based on the temperature observations available from 2010 to 2017, there appears to be very little variation in the temperature in Oahu in the months of June and December. In fact the difference in mean temperature between the two months is only about 3 degrees, a comfortable 74 degrees in June and 71 in December, perfect for the shake and surf business. The median temperature, 71 degrees, is virtually the same as the mean meaning that there really is very little variation! \n",
    "\n",
    "The maximum temperature is around 83 (December) and 85 (June) and the minimum 56 (December) and 64 (June). The standard deviation in the temperature observations are 3.75 degrees (December) and 3.25 degrees (June). This relatively low variation in temperature means people are going to be out more days in the year and hopefully patronizing the shake and surf shop.\n",
    "\n",
    "### Precipitation Comparison June and December\n",
    "\n",
    "Based on the preciptiation observations available from 2010 to 2017, presents the same story as the temperature observations--Hawaii is a very climatically stable place. There appears to be very little variation in the amount of precipitation in Oahu in the months of June and December. The mean amount of precipitation  is .14 inches in June and 0.22 inches in December slighlty more rainy in December but not by much. The median precipitation is .03 inches in December and .02 in June.  \n",
    "\n",
    "The maximum precipitation is 6.42\" (December) and 4.43\" (June) and the minimum 0 (December) and 0 (June). The standard deviation in the temperature observations are 0.54\" (December) and 0.33\" (June). This relatively low variation in precipitations appears to indicate that there are a lot of rainy days. However the good news is the rain is minimal.\n",
    "\n",
    "\n",
    "### Recommendations\n",
    "The following information may also be useful to look at in making the final decision for starting the shop:\n",
    "\n",
    "1. Find out how many rainy days there are yearly,\n",
    "2. Find out how many days below 60 degrees,\n",
    "3. Find out the hottest month of the year\n",
    "\n"
   ]
  },
  {
   "cell_type": "code",
   "execution_count": null,
   "metadata": {},
   "outputs": [],
   "source": []
  }
 ],
 "metadata": {
  "kernelspec": {
   "display_name": "Python 3",
   "language": "python",
   "name": "python3"
  },
  "language_info": {
   "codemirror_mode": {
    "name": "ipython",
    "version": 3
   },
   "file_extension": ".py",
   "mimetype": "text/x-python",
   "name": "python",
   "nbconvert_exporter": "python",
   "pygments_lexer": "ipython3",
   "version": "3.7.7"
  }
 },
 "nbformat": 4,
 "nbformat_minor": 2
}
